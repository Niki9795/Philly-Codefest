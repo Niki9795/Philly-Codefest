{
 "cells": [
  {
   "cell_type": "code",
   "execution_count": 1,
   "metadata": {},
   "outputs": [
    {
     "name": "stdout",
     "output_type": "stream",
     "text": [
      "Looking in indexes: https://download.pytorch.org/whl/cu118, https://pypi.ngc.nvidia.com\n",
      "Requirement already satisfied: torch in d:\\001drexel\\99_hackathon\\4_codefest2024\\main\\philly-codefest\\.venv\\lib\\site-packages (2.2.2+cu118)\n",
      "Requirement already satisfied: torchvision in d:\\001drexel\\99_hackathon\\4_codefest2024\\main\\philly-codefest\\.venv\\lib\\site-packages (0.17.2+cu118)\n",
      "Requirement already satisfied: torchaudio in d:\\001drexel\\99_hackathon\\4_codefest2024\\main\\philly-codefest\\.venv\\lib\\site-packages (2.2.2+cu118)\n",
      "Requirement already satisfied: filelock in d:\\001drexel\\99_hackathon\\4_codefest2024\\main\\philly-codefest\\.venv\\lib\\site-packages (from torch) (3.9.0)\n",
      "Requirement already satisfied: typing-extensions>=4.8.0 in d:\\001drexel\\99_hackathon\\4_codefest2024\\main\\philly-codefest\\.venv\\lib\\site-packages (from torch) (4.11.0)\n",
      "Requirement already satisfied: sympy in d:\\001drexel\\99_hackathon\\4_codefest2024\\main\\philly-codefest\\.venv\\lib\\site-packages (from torch) (1.12)\n",
      "Requirement already satisfied: networkx in d:\\001drexel\\99_hackathon\\4_codefest2024\\main\\philly-codefest\\.venv\\lib\\site-packages (from torch) (3.2.1)\n",
      "Requirement already satisfied: jinja2 in d:\\001drexel\\99_hackathon\\4_codefest2024\\main\\philly-codefest\\.venv\\lib\\site-packages (from torch) (3.1.2)\n",
      "Requirement already satisfied: fsspec in d:\\001drexel\\99_hackathon\\4_codefest2024\\main\\philly-codefest\\.venv\\lib\\site-packages (from torch) (2023.4.0)\n",
      "Requirement already satisfied: numpy in d:\\001drexel\\99_hackathon\\4_codefest2024\\main\\philly-codefest\\.venv\\lib\\site-packages (from torchvision) (1.26.4)\n",
      "Requirement already satisfied: pillow!=8.3.*,>=5.3.0 in d:\\001drexel\\99_hackathon\\4_codefest2024\\main\\philly-codefest\\.venv\\lib\\site-packages (from torchvision) (10.3.0)\n",
      "Requirement already satisfied: MarkupSafe>=2.0 in d:\\001drexel\\99_hackathon\\4_codefest2024\\main\\philly-codefest\\.venv\\lib\\site-packages (from jinja2->torch) (2.1.3)\n",
      "Requirement already satisfied: mpmath>=0.19 in d:\\001drexel\\99_hackathon\\4_codefest2024\\main\\philly-codefest\\.venv\\lib\\site-packages (from sympy->torch) (1.3.0)\n",
      "Note: you may need to restart the kernel to use updated packages.\n"
     ]
    }
   ],
   "source": [
    "# pip install torch torchvision torchaudio --index-url https://download.pytorch.org/whl/cu118\n",
    "# check here for your version https://pytorch.org/get-started/locally/"
   ]
  },
  {
   "cell_type": "code",
   "execution_count": 4,
   "metadata": {},
   "outputs": [
    {
     "name": "stdout",
     "output_type": "stream",
     "text": [
      "<class 'numpy.ndarray'>\n",
      "(1, 3, 128, 250)\n",
      "torch.Size([1, 3, 128, 250]) cuda\n",
      "{'class': 1, 'confidence': 0.6051491498947144}\n"
     ]
    }
   ],
   "source": [
    "# test_inference.py\n",
    "import torch\n",
    "import inference  # This is the inference.py script you created\n",
    "import librosa\n",
    "import json\n",
    "\n",
    "# Simulate SageMaker's model_fn\n",
    "model_dir = \"./\"  # Replace with the path to your model directory\n",
    "model = inference.model_fn(model_dir)\n",
    "\n",
    "# Load a sample audio file using librosa\n",
    "audio_path = \"../data/test/1_10123.wav\"  # Replace with the path to your audio file\n",
    "signal, sr = librosa.load(audio_path, sr=None, mono=True)\n",
    "\n",
    "# Create a JSON object with the signal and sample rate\n",
    "input_json = json.dumps({\"signal\": signal.tolist(), \"sr\": sr})\n",
    "\n",
    "# Simulate SageMaker's input_fn with JSON content\n",
    "input_data = inference.input_fn(input_json, \"application/json\")\n",
    "\n",
    "\n",
    "print(type(input_data))\n",
    "print(input_data.shape)\n",
    "# Simulate SageMaker's predict_fn\n",
    "prediction = inference.predict_fn(input_data, model)\n",
    "\n",
    "# Simulate SageMaker's output_fn\n",
    "output = inference.output_fn(prediction, \"application/json\")\n",
    "\n",
    "# Print the output\n",
    "print(output)"
   ]
  },
  {
   "cell_type": "code",
   "execution_count": 5,
   "metadata": {},
   "outputs": [],
   "source": [
    "def convert_to_human(output_data):\n",
    "    sound_dict = {\n",
    "        0: \"Fire\",\n",
    "        1: \"Rain\",\n",
    "        2: \"Thunderstorm\",\n",
    "        3: \"WaterDrops\",\n",
    "        4: \"Wind\",\n",
    "        5: \"Silence\",\n",
    "        6: \"TreeFalling\",\n",
    "        7: \"Helicopter\",\n",
    "        8: \"VehicleEngine\",\n",
    "        9: \"Axe\",\n",
    "        10: \"Chainsaw\",\n",
    "        11: \"Generator\",\n",
    "        12: \"Handsaw\",\n",
    "        13: \"Firework\",\n",
    "        14: \"Gunshot\",\n",
    "        15: \"WoodChop\",\n",
    "        16: \"Whistling\",\n",
    "        17: \"Speaking\",\n",
    "        18: \"Footsteps\",\n",
    "        19: \"Clapping\",\n",
    "        20: \"Insect\",\n",
    "        21: \"Frog\",\n",
    "        22: \"BirdChirping\",\n",
    "        23: \"WingFlaping\",\n",
    "        24: \"Lion\",\n",
    "        25: \"WolfHowl\",\n",
    "        26: \"Squirrel\",\n",
    "    }\n",
    "    return {\n",
    "        'class':sound_dict[output_data['class']],\n",
    "        'confidence': \"{:.1%}\".format(output_data['confidence'])\n",
    "    }"
   ]
  },
  {
   "cell_type": "code",
   "execution_count": 7,
   "metadata": {},
   "outputs": [
    {
     "data": {
      "text/plain": [
       "{'class': 'Rain', 'confidence': '60.5%'}"
      ]
     },
     "execution_count": 7,
     "metadata": {},
     "output_type": "execute_result"
    }
   ],
   "source": [
    "convert_to_human(output_data=output)"
   ]
  }
 ],
 "metadata": {
  "kernelspec": {
   "display_name": ".venv",
   "language": "python",
   "name": "python3"
  },
  "language_info": {
   "codemirror_mode": {
    "name": "ipython",
    "version": 3
   },
   "file_extension": ".py",
   "mimetype": "text/x-python",
   "name": "python",
   "nbconvert_exporter": "python",
   "pygments_lexer": "ipython3",
   "version": "3.11.9"
  }
 },
 "nbformat": 4,
 "nbformat_minor": 2
}
