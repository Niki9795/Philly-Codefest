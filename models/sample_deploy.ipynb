{
 "cells": [
  {
   "cell_type": "code",
   "execution_count": 1,
   "metadata": {},
   "outputs": [],
   "source": [
    "# pip install torch torchvision torchaudio --index-url https://download.pytorch.org/whl/cu118\n",
    "# check here for your version https://pytorch.org/get-started/locally/"
   ]
  },
  {
   "cell_type": "code",
   "execution_count": 2,
   "metadata": {},
   "outputs": [
    {
     "name": "stdout",
     "output_type": "stream",
     "text": [
      "<class 'numpy.ndarray'>\n",
      "(1, 3, 128, 250)\n",
      "torch.Size([1, 3, 128, 250]) cuda\n",
      "{'class': 1, 'confidence': 0.6051491498947144}\n"
     ]
    }
   ],
   "source": [
    "# test_inference.py\n",
    "import torch\n",
    "import inference  # This is the inference.py script you created\n",
    "import librosa\n",
    "import json\n",
    "\n",
    "# Simulate SageMaker's model_fn\n",
    "model_dir = \"./\"  # Replace with the path to your model directory\n",
    "model = inference.model_fn(model_dir)\n",
    "\n",
    "# Load a sample audio file using librosa\n",
    "audio_path = \"../data/test/1_10123.wav\"  # Replace with the path to your audio file\n",
    "signal, sr = librosa.load(audio_path, sr=None, mono=True)\n",
    "\n",
    "# Create a JSON object with the signal and sample rate\n",
    "input_json = json.dumps({\"signal\": signal.tolist(), \"sr\": sr})\n",
    "\n",
    "# Simulate SageMaker's input_fn with JSON content\n",
    "input_data = inference.input_fn(input_json, \"application/json\")\n",
    "\n",
    "\n",
    "print(type(input_data))\n",
    "print(input_data.shape)\n",
    "# Simulate SageMaker's predict_fn\n",
    "prediction = inference.predict_fn(input_data, model)\n",
    "\n",
    "# Simulate SageMaker's output_fn\n",
    "output = inference.output_fn(prediction, \"application/json\")\n",
    "\n",
    "# Print the output\n",
    "print(output)"
   ]
  },
  {
   "cell_type": "code",
   "execution_count": null,
   "metadata": {},
   "outputs": [],
   "source": []
  },
  {
   "cell_type": "code",
   "execution_count": 3,
   "metadata": {},
   "outputs": [],
   "source": [
    "def convert_to_human(output_data):\n",
    "    sound_dict = {\n",
    "        0: \"Fire\",\n",
    "        1: \"Rain\",\n",
    "        2: \"Thunderstorm\",\n",
    "        3: \"WaterDrops\",\n",
    "        4: \"Wind\",\n",
    "        5: \"Silence\",\n",
    "        6: \"TreeFalling\",\n",
    "        7: \"Helicopter\",\n",
    "        8: \"VehicleEngine\",\n",
    "        9: \"Axe\",\n",
    "        10: \"Chainsaw\",\n",
    "        11: \"Generator\",\n",
    "        12: \"Handsaw\",\n",
    "        13: \"Firework\",\n",
    "        14: \"Gunshot\",\n",
    "        15: \"WoodChop\",\n",
    "        16: \"Whistling\",\n",
    "        17: \"Speaking\",\n",
    "        18: \"Footsteps\",\n",
    "        19: \"Clapping\",\n",
    "        20: \"Insect\",\n",
    "        21: \"Frog\",\n",
    "        22: \"BirdChirping\",\n",
    "        23: \"WingFlaping\",\n",
    "        24: \"Lion\",\n",
    "        25: \"WolfHowl\",\n",
    "        26: \"Squirrel\",\n",
    "    }\n",
    "    return {\n",
    "        'class':sound_dict[output_data['class']],\n",
    "        'confidence': \"{:.1%}\".format(output_data['confidence'])\n",
    "    }"
   ]
  },
  {
   "cell_type": "code",
   "execution_count": 5,
   "metadata": {},
   "outputs": [],
   "source": [
    "r = convert_to_human(output_data=output)"
   ]
  },
  {
   "cell_type": "code",
   "execution_count": 7,
   "metadata": {},
   "outputs": [],
   "source": [
    "import json\n",
    "with open('output.json', 'w') as f:\n",
    "    json.dump(r\n",
    ", f)"
   ]
  }
 ],
 "metadata": {
  "kernelspec": {
   "display_name": ".venv",
   "language": "python",
   "name": "python3"
  },
  "language_info": {
   "codemirror_mode": {
    "name": "ipython",
    "version": 3
   },
   "file_extension": ".py",
   "mimetype": "text/x-python",
   "name": "python",
   "nbconvert_exporter": "python",
   "pygments_lexer": "ipython3",
   "version": "3.11.9"
  }
 },
 "nbformat": 4,
 "nbformat_minor": 2
}
