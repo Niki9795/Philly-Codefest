{
 "cells": [
  {
   "cell_type": "code",
   "execution_count": 1,
   "metadata": {},
   "outputs": [],
   "source": [
    "pip install torch torchvision torchaudio --index-url https://download.pytorch.org/whl/cu118"
   ]
  },
  {
   "cell_type": "code",
   "execution_count": null,
   "metadata": {},
   "outputs": [],
   "source": [
    "# test_inference.py\n",
    "import torch\n",
    "import inference  # This is the inference.py script you created\n",
    "import librosa\n",
    "import json\n",
    "\n",
    "# Simulate SageMaker's model_fn\n",
    "model_dir = './'  # Replace with the path to your model directory\n",
    "model = inference.model_fn(model_dir)\n",
    "\n",
    "# Load a sample audio file using librosa\n",
    "audio_path = '../data/test/1_10123.wav'  # Replace with the path to your audio file\n",
    "signal, sr = librosa.load(audio_path, sr=None, mono=True)\n",
    "\n",
    "# Create a JSON object with the signal and sample rate\n",
    "input_json = json.dumps({'signal': signal.tolist(), 'sr': sr})\n",
    "\n",
    "# Simulate SageMaker's input_fn with JSON content\n",
    "input_data = inference.input_fn(input_json, 'application/json')\n",
    "\n",
    "\n",
    "print(type(input_data))\n",
    "print(input_data.shape)\n",
    "# Simulate SageMaker's predict_fn\n",
    "prediction = inference.predict_fn(input_data, model)\n",
    "\n",
    "# Simulate SageMaker's output_fn\n",
    "output = inference.output_fn(prediction, 'application/json')\n",
    "\n",
    "# Print the output\n",
    "print(output)\n"
   ]
  }
 ],
 "metadata": {
  "kernelspec": {
   "display_name": ".venv",
   "language": "python",
   "name": "python3"
  },
  "language_info": {
   "codemirror_mode": {
    "name": "ipython",
    "version": 3
   },
   "file_extension": ".py",
   "mimetype": "text/x-python",
   "name": "python",
   "nbconvert_exporter": "python",
   "pygments_lexer": "ipython3",
   "version": "3.11.9"
  }
 },
 "nbformat": 4,
 "nbformat_minor": 2
}
